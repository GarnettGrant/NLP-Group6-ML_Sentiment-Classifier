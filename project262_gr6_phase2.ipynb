{
 "cells": [
  {
   "cell_type": "markdown",
   "metadata": {},
   "source": [
    "## <center> A Sentiment Analysis model for products based on customers’ textual reviews,” using a Machine Learning approach <center>\n",
    "### <center> Project COMP 262: Natural Language processing and recommender systems Phase 2 <center>\n",
    "<center>\n",
    "Team 6 \n",
    "\n",
    "Theresa Bennett – 300909345 \n",
    "\n",
    "Daniil Velykyi - 301183618 \n",
    "\n",
    "Shahzaib Mansoor - ######### \n",
    "\n",
    "Garnett Grant - 301188923 \n",
    "\n",
    "Martel Baylis-Martin- ######### \n",
    "</center>\n",
    " "
   ]
  },
  {
   "cell_type": "markdown",
   "metadata": {},
   "source": [
    "11. Modeling (Sentiment Analysis) Machine Learning approach:\n",
    "    \n",
    "    a. Select a subset of the original data minimum 2000 reviews, check point 14 below\n",
    "as you select the subset.\n",
    "\n",
    "    b. Carry out data exploration on the subset and pre-processing and justify each\n",
    "step of preprocessing.\n",
    "\n",
    "    c. Represent your text using one of the text represtations discussed in the course,\n",
    "make sure to note in your report why you chose that representation.\n",
    "\n",
    "    d. Split the data into 70% for training and 30% for testing,—Use stratified splitting\n",
    "based on the rating value field.\n",
    "\n",
    "    e. Build two sentiment analysis models using 70% of the data. Choose two of the\n",
    "following Machine Learning algorithms to build and fine tune your models:\n",
    "\n",
    "            i. Logistic Regression\n",
    "            ii. SVM\n",
    "            iii. Naïve Bayes\n",
    "            iv. Gradient Boosting\n",
    "            v. MLP"
   ]
  },
  {
   "cell_type": "code",
   "execution_count": null,
   "metadata": {
    "vscode": {
     "languageId": "plaintext"
    }
   },
   "outputs": [],
   "source": []
  }
 ],
 "metadata": {
  "language_info": {
   "name": "python"
  }
 },
 "nbformat": 4,
 "nbformat_minor": 2
}
